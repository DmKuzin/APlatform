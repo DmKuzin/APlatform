{
 "cells": [
  {
   "cell_type": "code",
   "execution_count": 1,
   "metadata": {
    "collapsed": true,
    "pycharm": {
     "name": "#%%\n"
    }
   },
   "outputs": [],
   "source": [
    "import psycopg2\n",
    "import time\n",
    "from datetime import datetime\n",
    "import pandas as pd\n",
    "import constants\n",
    "import MessageProc\n",
    "import RequestScraper"
   ]
  },
  {
   "cell_type": "code",
   "execution_count": null,
   "outputs": [],
   "source": [
    "#!pip3 install psycopg2"
   ],
   "metadata": {
    "collapsed": false,
    "pycharm": {
     "name": "#%%\n"
    }
   }
  },
  {
   "cell_type": "code",
   "execution_count": null,
   "outputs": [],
   "source": [
    "logger = MessageProc.SQLMessageLogger(\"localhost\", \"postgres\", \"postgres\", \"qwerty\")"
   ],
   "metadata": {
    "collapsed": false,
    "pycharm": {
     "name": "#%%\n"
    }
   }
  },
  {
   "cell_type": "code",
   "execution_count": null,
   "outputs": [],
   "source": [
    "current_time = pd.to_datetime(datetime.now().strftime(\"%Y-%m-%d %H:%M:%S\"))\n",
    "logger.log_data_to_table(constants.DISCORD_SQL_TABLE, \"test message_\", '16', current_time, 'author', 'FROM_DISCORD', 'server_name', 'channel_name')"
   ],
   "metadata": {
    "collapsed": false,
    "pycharm": {
     "name": "#%%\n"
    }
   }
  },
  {
   "cell_type": "code",
   "execution_count": null,
   "outputs": [],
   "source": [
    "logger = MessageProc.SQLMessageLogger(\"localhost\", \"postgres\", \"postgres\", \"qwerty\")\n",
    "logger.load_data_from_table(constants.DISCORD_SQL_TABLE)"
   ],
   "metadata": {
    "collapsed": false,
    "pycharm": {
     "name": "#%%\n"
    }
   }
  },
  {
   "cell_type": "code",
   "execution_count": null,
   "outputs": [],
   "source": [
    "logger.load_data_from_table(constants.DISCORD_SQL_VIEW)"
   ],
   "metadata": {
    "collapsed": false,
    "pycharm": {
     "name": "#%%\n"
    }
   }
  },
  {
   "cell_type": "code",
   "execution_count": null,
   "outputs": [],
   "source": [
    "last_row = logger.get_last_row_from_table(constants.DISCORD_SQL_VIEW)\n",
    "last_row"
   ],
   "metadata": {
    "collapsed": false,
    "pycharm": {
     "name": "#%%\n"
    }
   }
  },
  {
   "cell_type": "code",
   "execution_count": null,
   "outputs": [],
   "source": [
    "last_row['id'].to_list()[0]"
   ],
   "metadata": {
    "collapsed": false,
    "pycharm": {
     "name": "#%%\n"
    }
   }
  },
  {
   "cell_type": "code",
   "execution_count": null,
   "outputs": [],
   "source": [],
   "metadata": {
    "collapsed": false,
    "pycharm": {
     "name": "#%%\n"
    }
   }
  },
  {
   "cell_type": "code",
   "execution_count": null,
   "outputs": [],
   "source": [],
   "metadata": {
    "collapsed": false,
    "pycharm": {
     "name": "#%%\n"
    }
   }
  },
  {
   "cell_type": "code",
   "execution_count": null,
   "outputs": [],
   "source": [
    "analyse_logger = MessageProc.SQLMessageLogger(\"localhost\", \"postgres\", \"postgres\", \"qwerty\")"
   ],
   "metadata": {
    "collapsed": false,
    "pycharm": {
     "name": "#%%\n"
    }
   }
  },
  {
   "cell_type": "code",
   "execution_count": null,
   "outputs": [],
   "source": [
    "current_time = pd.to_datetime(datetime.now().strftime(\"%Y-%m-%d %H:%M:%S\"))\n",
    "analyse_logger.log_data_to_table(constants.ANALYSE_SQL_TABLE, \"test message_\", '8', current_time, 'author', 'FROM_DISCORD',\n",
    "                         'server_name', 'channel_name')"
   ],
   "metadata": {
    "collapsed": false,
    "pycharm": {
     "name": "#%%\n"
    }
   }
  },
  {
   "cell_type": "code",
   "execution_count": null,
   "outputs": [],
   "source": [
    "analyse_logger = MessageProc.SQLMessageLogger(\"localhost\", \"postgres\", \"postgres\", \"qwerty\")\n",
    "analyse_logger.load_data_from_table(constants.ANALYSE_SQL_TABLE)"
   ],
   "metadata": {
    "collapsed": false,
    "pycharm": {
     "name": "#%%\n"
    }
   }
  },
  {
   "cell_type": "code",
   "execution_count": null,
   "outputs": [],
   "source": [
    "analyse_logger.load_data_from_table(constants.ANALYSE_SQL_VIEW)"
   ],
   "metadata": {
    "collapsed": false,
    "pycharm": {
     "name": "#%%\n"
    }
   }
  },
  {
   "cell_type": "code",
   "execution_count": null,
   "outputs": [],
   "source": [
    "list = [5]\n",
    "my_string = \",\".join(\"'\" + str(i) + \"'\" for i in list)\n",
    "my_string\n",
    "analyse_logger.delete_rows_from_table(constants.ANALYSE_SQL_TABLE, my_string)"
   ],
   "metadata": {
    "collapsed": false,
    "pycharm": {
     "name": "#%%\n"
    }
   }
  },
  {
   "cell_type": "code",
   "execution_count": null,
   "outputs": [],
   "source": [
    "MessageProc.MessageStatus.ANALYSE.name"
   ],
   "metadata": {
    "collapsed": false,
    "pycharm": {
     "name": "#%%\n"
    }
   }
  },
  {
   "cell_type": "code",
   "execution_count": null,
   "outputs": [],
   "source": [
    "list = [6,7]\n",
    "update_list = \",\".join(\"'\" + str(i) + \"'\" for i in list)\n",
    "analyse_logger.update_status_rows_from_table(constants.ANALYSE_SQL_TABLE,update_list, MessageProc.MessageStatus.ANALYSE.name)"
   ],
   "metadata": {
    "collapsed": false,
    "pycharm": {
     "name": "#%%\n"
    }
   }
  },
  {
   "cell_type": "code",
   "execution_count": null,
   "outputs": [],
   "source": [
    "create view raw_discord_data.view_from_discord as\n",
    "select * from raw_discord_data.from_discord\n",
    "where raw_discord_data.from_discord.datetime >= DATEADD(raw_discord_data.from_discord.datetime, -12, (SELECT MAX(raw_discord_data.from_discord.datetime) FROM raw_discord_data.from_discord));"
   ],
   "metadata": {
    "collapsed": false,
    "pycharm": {
     "name": "#%%\n"
    }
   }
  },
  {
   "cell_type": "code",
   "execution_count": null,
   "outputs": [],
   "source": [
    "CREATE VIEW last_10_rows AS\n",
    "SELECT *\n",
    "FROM table_name\n",
    "ORDER BY id DESC\n",
    "LIMIT 10;"
   ],
   "metadata": {
    "collapsed": false,
    "pycharm": {
     "name": "#%%\n"
    }
   }
  },
  {
   "cell_type": "code",
   "execution_count": null,
   "outputs": [],
   "source": [
    "create view raw_discord_data.view_to_analyse(message, id, datetime, author, status, server_name, channel_name) as\n",
    "SELECT subquery.message,\n",
    "subquery.id,\n",
    "subquery.datetime,\n",
    "subquery.author,\n",
    "subquery.status,\n",
    "subquery.server_name,\n",
    "subquery.channel_name\n",
    "FROM (SELECT to_analyse.message,\n",
    "             to_analyse.id,\n",
    "             to_analyse.datetime,\n",
    "             to_analyse.author,\n",
    "             to_analyse.status,\n",
    "             to_analyse.server_name,\n",
    "             to_analyse.channel_name\n",
    "FROM raw_discord_data.to_analyse\n",
    "ORDER BY raw_discord_data.to_analyse.datetime DESC\n",
    "LIMIT 10) subquery\n",
    "ORDER BY subquery.datetime;"
   ],
   "metadata": {
    "collapsed": false,
    "pycharm": {
     "name": "#%%\n"
    }
   }
  },
  {
   "cell_type": "code",
   "execution_count": null,
   "outputs": [],
   "source": [
    "str_ = '1'"
   ],
   "metadata": {
    "collapsed": false,
    "pycharm": {
     "name": "#%%\n"
    }
   }
  },
  {
   "cell_type": "code",
   "execution_count": null,
   "outputs": [],
   "source": [
    "str_"
   ],
   "metadata": {
    "collapsed": false,
    "pycharm": {
     "name": "#%%\n"
    }
   }
  },
  {
   "cell_type": "code",
   "execution_count": null,
   "outputs": [],
   "source": [
    "if str_:\n",
    "    print('empty')"
   ],
   "metadata": {
    "collapsed": false,
    "pycharm": {
     "name": "#%%\n"
    }
   }
  },
  {
   "cell_type": "code",
   "execution_count": 2,
   "outputs": [],
   "source": [
    "#import RequestScraper\n",
    "# Create Discord channel listener\n",
    "discord_listener = RequestScraper.DiscordBot(constants.AUTHORIZATION_TOKEN,\n",
    "                                             290843998296342529,\n",
    "                                             826527827792887869,\n",
    "                                             constants.DISCORD_FILE_PATH)"
   ],
   "metadata": {
    "collapsed": false,
    "pycharm": {
     "name": "#%%\n"
    }
   }
  },
  {
   "cell_type": "code",
   "execution_count": 3,
   "outputs": [],
   "source": [
    "discord_listener.get_historical_messages(3)"
   ],
   "metadata": {
    "collapsed": false,
    "pycharm": {
     "name": "#%%\n"
    }
   }
  },
  {
   "cell_type": "code",
   "execution_count": 8,
   "outputs": [
    {
     "name": "stdout",
     "output_type": "stream",
     "text": [
      "id\n",
      "^^^^^^^^^^^^^\n",
      "type\n",
      "^^^^^^^^^^^^^\n",
      "content\n",
      "^^^^^^^^^^^^^\n",
      "channel_id\n",
      "^^^^^^^^^^^^^\n",
      "author\n",
      "^^^^^^^^^^^^^\n",
      "attachments\n",
      "^^^^^^^^^^^^^\n",
      "embeds\n",
      "^^^^^^^^^^^^^\n",
      "mentions\n",
      "^^^^^^^^^^^^^\n",
      "mention_roles\n",
      "^^^^^^^^^^^^^\n",
      "pinned\n",
      "^^^^^^^^^^^^^\n",
      "mention_everyone\n",
      "^^^^^^^^^^^^^\n",
      "tts\n",
      "^^^^^^^^^^^^^\n",
      "timestamp\n",
      "^^^^^^^^^^^^^\n",
      "edited_timestamp\n",
      "^^^^^^^^^^^^^\n",
      "flags\n",
      "^^^^^^^^^^^^^\n",
      "components\n",
      "^^^^^^^^^^^^^\n",
      "message_reference\n",
      "^^^^^^^^^^^^^\n",
      "referenced_message\n",
      "^^^^^^^^^^^^^\n"
     ]
    }
   ],
   "source": [
    "discord_listener.read_latest_messages()"
   ],
   "metadata": {
    "collapsed": false,
    "pycharm": {
     "name": "#%%\n"
    }
   }
  },
  {
   "cell_type": "code",
   "execution_count": null,
   "outputs": [],
   "source": [
    "'mentions_id', 'mentions_username', 'message_reference_channel_id', 'message_reference_guild_id', 'message_reference_message_id',\n",
    "'referenced_message_id', 'referenced_message_content', 'referenced_message_channel_id', 'referenced_message_author_username'"
   ],
   "metadata": {
    "collapsed": false,
    "pycharm": {
     "name": "#%%\n"
    }
   }
  },
  {
   "cell_type": "code",
   "execution_count": null,
   "outputs": [],
   "source": [
    "#discord_listener.read_latest_messages()"
   ],
   "metadata": {
    "collapsed": false,
    "pycharm": {
     "name": "#%%\n"
    }
   }
  },
  {
   "cell_type": "code",
   "execution_count": null,
   "outputs": [],
   "source": [
    "{'id': '1087366485854392320', 'type': 19, 'content': 'But you were about to', 'channel_id': '826527827792887869', 'author': {'id': '659807484386607125', 'username': 'pr33t ❥', 'global_name': None, 'display_name': None, 'avatar': '6e47aa4a5e33340e0fd903702407cb28', 'avatar_decoration': None, 'discriminator': '0007', 'public_flags': 0}, 'attachments': [], 'embeds': [], 'mentions': [{'id': '1067743602974933053', 'username': '𝕵𝖆𝖓𝖊 𝕰𝖞𝖗𝖊 🎔', 'global_name': None, 'display_name': None, 'avatar': 'b6555508b1ab37f8881df7f69cd0d570', 'avatar_decoration': None, 'discriminator': '6830', 'public_flags': 128}], 'mention_roles': [], 'pinned': False, 'mention_everyone': False, 'tts': False, 'timestamp': '2023-03-20T13:26:12.520000+00:00', 'edited_timestamp': None, 'flags': 0, 'components': [], 'message_reference': {'channel_id': '826527827792887869', 'guild_id': '290843998296342529', 'message_id': '1087366019460366336'}, 'referenced_message': {'id': '1087366019460366336', 'type': 19, 'content': \"Wdym I didn't even use those ss yet 😔\", 'channel_id': '826527827792887869', 'author': {'id': '1067743602974933053', 'username': '𝕵𝖆𝖓𝖊 𝕰𝖞𝖗𝖊 🎔', 'global_name': None, 'display_name': None, 'avatar': 'b6555508b1ab37f8881df7f69cd0d570', 'avatar_decoration': None, 'discriminator': '6830', 'public_flags': 128}, 'attachments': [], 'embeds': [], 'mentions': [{'id': '659807484386607125', 'username': 'pr33t ❥', 'global_name': None, 'display_name': None, 'avatar': '6e47aa4a5e33340e0fd903702407cb28', 'avatar_decoration': None, 'discriminator': '0007', 'public_flags': 0}], 'mention_roles': [], 'pinned': False, 'mention_everyone': False, 'tts': False, 'timestamp': '2023-03-20T13:24:21.323000+00:00', 'edited_timestamp': None, 'flags': 0, 'components': [], 'message_reference': {'channel_id': '826527827792887869', 'guild_id': '290843998296342529', 'message_id': '1087365324048965632'}}}"
   ],
   "metadata": {
    "collapsed": false,
    "pycharm": {
     "name": "#%%\n"
    }
   }
  }
 ],
 "metadata": {
  "kernelspec": {
   "display_name": "Python 3",
   "language": "python",
   "name": "python3"
  },
  "language_info": {
   "codemirror_mode": {
    "name": "ipython",
    "version": 2
   },
   "file_extension": ".py",
   "mimetype": "text/x-python",
   "name": "python",
   "nbconvert_exporter": "python",
   "pygments_lexer": "ipython2",
   "version": "2.7.6"
  }
 },
 "nbformat": 4,
 "nbformat_minor": 0
}