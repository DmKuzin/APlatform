{
 "cells": [
  {
   "cell_type": "code",
   "execution_count": 13,
   "metadata": {
    "collapsed": true,
    "pycharm": {
     "name": "#%%\n"
    }
   },
   "outputs": [],
   "source": [
    "import psycopg2\n",
    "import time\n",
    "from datetime import datetime\n",
    "import pandas as pd\n",
    "import constants"
   ]
  },
  {
   "cell_type": "code",
   "execution_count": 14,
   "outputs": [],
   "source": [
    "#!pip3 install psycopg2"
   ],
   "metadata": {
    "collapsed": false,
    "pycharm": {
     "name": "#%%\n"
    }
   }
  },
  {
   "cell_type": "code",
   "execution_count": 15,
   "outputs": [],
   "source": [
    "def insert_discord_data(conn, message, id, datetime, author, status, server_name, channel_name):\n",
    "    sql  = \"\"\"INSERT INTO raw_data.from_discord (message,\n",
    "                                         id,\n",
    "                                         datetime,\n",
    "                                         author,\n",
    "                                         status,\n",
    "                                         server_name,\n",
    "                                         channel_name) VALUES (%s, %s, %s, %s, %s, %s, %s)\"\"\"\n",
    "\n",
    "    values  = (message,\n",
    "               id,\n",
    "               datetime,\n",
    "               author,\n",
    "               status,\n",
    "               server_name,\n",
    "               channel_name)\n",
    "\n",
    "    cursor = conn.cursor()\n",
    "    cursor.execute(sql, values)\n",
    "    conn.commit()\n",
    "    count = cursor.rowcount\n",
    "    cursor.close()"
   ],
   "metadata": {
    "collapsed": false,
    "pycharm": {
     "name": "#%%\n"
    }
   }
  },
  {
   "cell_type": "code",
   "execution_count": 16,
   "outputs": [],
   "source": [
    "# Establish a connection to the database\n",
    "conn = psycopg2.connect(\n",
    "    host=\"localhost\",\n",
    "    database=\"postgres\",\n",
    "    user=\"postgres\",\n",
    "    password=\"qwerty\"\n",
    ")"
   ],
   "metadata": {
    "collapsed": false,
    "pycharm": {
     "name": "#%%\n"
    }
   }
  },
  {
   "cell_type": "code",
   "execution_count": 17,
   "outputs": [],
   "source": [
    "current_time = pd.to_datetime(datetime.now().strftime(\"%Y-%m-%d %H:%M:%S\"))\n",
    "insert_discord_data(conn, \"test message_\", 2, current_time, 'author', 'FROM_DISCORD', 'server_name', 'channel_name')"
   ],
   "metadata": {
    "collapsed": false,
    "pycharm": {
     "name": "#%%\n"
    }
   }
  },
  {
   "cell_type": "code",
   "execution_count": 18,
   "outputs": [],
   "source": [
    "conn.close()"
   ],
   "metadata": {
    "collapsed": false,
    "pycharm": {
     "name": "#%%\n"
    }
   }
  },
  {
   "cell_type": "code",
   "execution_count": null,
   "outputs": [],
   "source": [],
   "metadata": {
    "collapsed": false,
    "pycharm": {
     "name": "#%%\n"
    }
   }
  }
 ],
 "metadata": {
  "kernelspec": {
   "display_name": "Python 3",
   "language": "python",
   "name": "python3"
  },
  "language_info": {
   "codemirror_mode": {
    "name": "ipython",
    "version": 2
   },
   "file_extension": ".py",
   "mimetype": "text/x-python",
   "name": "python",
   "nbconvert_exporter": "python",
   "pygments_lexer": "ipython2",
   "version": "2.7.6"
  }
 },
 "nbformat": 4,
 "nbformat_minor": 0
}