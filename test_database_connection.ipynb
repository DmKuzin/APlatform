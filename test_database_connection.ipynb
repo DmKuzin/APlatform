{
 "cells": [
  {
   "cell_type": "code",
   "execution_count": 2,
   "metadata": {
    "collapsed": true,
    "pycharm": {
     "name": "#%%\n"
    }
   },
   "outputs": [],
   "source": [
    "import psycopg2\n",
    "import time\n",
    "from datetime import datetime\n",
    "import pandas as pd\n",
    "import constants"
   ]
  },
  {
   "cell_type": "code",
   "execution_count": 2,
   "outputs": [],
   "source": [
    "#!pip3 install psycopg2"
   ],
   "metadata": {
    "collapsed": false,
    "pycharm": {
     "name": "#%%\n"
    }
   }
  },
  {
   "cell_type": "code",
   "execution_count": 3,
   "outputs": [],
   "source": [
    "# Establish a connection to the database\n",
    "conn = psycopg2.connect(\n",
    "    host=\"localhost\",\n",
    "    database=\"postgres\",\n",
    "    user=\"postgres\",\n",
    "    password=\"qwerty\"\n",
    ")"
   ],
   "metadata": {
    "collapsed": false,
    "pycharm": {
     "name": "#%%\n"
    }
   }
  },
  {
   "cell_type": "code",
   "execution_count": 4,
   "outputs": [],
   "source": [
    "# Open a cursor to perform database operations\n",
    "cur = conn.cursor()"
   ],
   "metadata": {
    "collapsed": false,
    "pycharm": {
     "name": "#%%\n"
    }
   }
  },
  {
   "cell_type": "code",
   "execution_count": 5,
   "outputs": [
    {
     "data": {
      "text/plain": "<cursor object at 0x000002164BC99660; closed: 0>"
     },
     "execution_count": 5,
     "metadata": {},
     "output_type": "execute_result"
    }
   ],
   "source": [
    "cur"
   ],
   "metadata": {
    "collapsed": false,
    "pycharm": {
     "name": "#%%\n"
    }
   }
  },
  {
   "cell_type": "code",
   "execution_count": 6,
   "outputs": [
    {
     "data": {
      "text/plain": "Timestamp('2023-03-01 22:51:08')"
     },
     "execution_count": 6,
     "metadata": {},
     "output_type": "execute_result"
    }
   ],
   "source": [
    "current_time = pd.to_datetime(datetime.now().strftime(\"%Y-%m-%d %H:%M:%S\"))\n",
    "current_time"
   ],
   "metadata": {
    "collapsed": false,
    "pycharm": {
     "name": "#%%\n"
    }
   }
  },
  {
   "cell_type": "code",
   "execution_count": 6,
   "outputs": [],
   "source": [],
   "metadata": {
    "collapsed": false,
    "pycharm": {
     "name": "#%%\n"
    }
   }
  },
  {
   "cell_type": "code",
   "execution_count": 7,
   "outputs": [],
   "source": [
    "# Execute a query to insert a row into a table\n",
    "for i in range(10):\n",
    "    current_time = pd.to_datetime(datetime.now().strftime(\"%Y-%m-%d %H:%M:%S\"))\n",
    "    cur.execute(\"INSERT INTO discord_table (message, id, datetime, author, status, server_name, channel_name) VALUES (%s, %s, %s, %s, %s, %s, %s)\", (\"test message_\"+str(2+i), 2+i, current_time, 'author', 'FROM_DISCORD', 'server_name', 'channel_name'))\n"
   ],
   "metadata": {
    "collapsed": false,
    "pycharm": {
     "name": "#%%\n"
    }
   }
  },
  {
   "cell_type": "code",
   "execution_count": 8,
   "outputs": [],
   "source": [
    "# Execute a SELECT query to read data from a table\n",
    "cur.execute(\"SELECT * FROM discord_table\")"
   ],
   "metadata": {
    "collapsed": false,
    "pycharm": {
     "name": "#%%\n"
    }
   }
  },
  {
   "cell_type": "code",
   "execution_count": 9,
   "outputs": [
    {
     "name": "stdout",
     "output_type": "stream",
     "text": [
      "('test message_2', 2, datetime.datetime(2023, 3, 1, 22, 51, 10), 'author', 'FROM_DISCORD', 'server_name', 'channel_name')\n",
      "('test message_3', 3, datetime.datetime(2023, 3, 1, 22, 51, 10), 'author', 'FROM_DISCORD', 'server_name', 'channel_name')\n",
      "('test message_4', 4, datetime.datetime(2023, 3, 1, 22, 51, 10), 'author', 'FROM_DISCORD', 'server_name', 'channel_name')\n",
      "('test message_5', 5, datetime.datetime(2023, 3, 1, 22, 51, 10), 'author', 'FROM_DISCORD', 'server_name', 'channel_name')\n",
      "('test message_6', 6, datetime.datetime(2023, 3, 1, 22, 51, 10), 'author', 'FROM_DISCORD', 'server_name', 'channel_name')\n",
      "('test message_7', 7, datetime.datetime(2023, 3, 1, 22, 51, 10), 'author', 'FROM_DISCORD', 'server_name', 'channel_name')\n",
      "('test message_8', 8, datetime.datetime(2023, 3, 1, 22, 51, 10), 'author', 'FROM_DISCORD', 'server_name', 'channel_name')\n",
      "('test message_9', 9, datetime.datetime(2023, 3, 1, 22, 51, 10), 'author', 'FROM_DISCORD', 'server_name', 'channel_name')\n",
      "('test message_10', 10, datetime.datetime(2023, 3, 1, 22, 51, 10), 'author', 'FROM_DISCORD', 'server_name', 'channel_name')\n",
      "('test message_11', 11, datetime.datetime(2023, 3, 1, 22, 51, 10), 'author', 'FROM_DISCORD', 'server_name', 'channel_name')\n"
     ]
    }
   ],
   "source": [
    "\n",
    "# Fetch all the rows returned by the query\n",
    "rows = cur.fetchall()\n",
    "\n",
    "# Print the data\n",
    "for row in rows:\n",
    "    print(row)\n",
    "\n",
    "# Close the cursor and the database connection\n",
    "cur.close()\n",
    "conn.close()"
   ],
   "metadata": {
    "collapsed": false,
    "pycharm": {
     "name": "#%%\n"
    }
   }
  },
  {
   "cell_type": "code",
   "execution_count": null,
   "outputs": [],
   "source": [
    "UPDATE table_name SET column1 = subquery.column1, column2 = subquery.column2, column3 = subquery.column3\n",
    "FROM (SELECT column1, column2, column3 FROM table_name ORDER BY id DESC OFFSET 1) AS subquery\n",
    "WHERE table_name.id = subquery.id + 1;\n"
   ],
   "metadata": {
    "collapsed": false,
    "pycharm": {
     "name": "#%%\n"
    }
   }
  },
  {
   "cell_type": "code",
   "execution_count": 20,
   "outputs": [
    {
     "data": {
      "text/plain": "            server_id   server_name          channel_id channel_name\n0  903535408846077952  Dark Echelon  964218449301737503  Main-corner\n1  290843998296342529         Anime  826527827792887869         Main",
      "text/html": "<div>\n<style scoped>\n    .dataframe tbody tr th:only-of-type {\n        vertical-align: middle;\n    }\n\n    .dataframe tbody tr th {\n        vertical-align: top;\n    }\n\n    .dataframe thead th {\n        text-align: right;\n    }\n</style>\n<table border=\"1\" class=\"dataframe\">\n  <thead>\n    <tr style=\"text-align: right;\">\n      <th></th>\n      <th>server_id</th>\n      <th>server_name</th>\n      <th>channel_id</th>\n      <th>channel_name</th>\n    </tr>\n  </thead>\n  <tbody>\n    <tr>\n      <th>0</th>\n      <td>903535408846077952</td>\n      <td>Dark Echelon</td>\n      <td>964218449301737503</td>\n      <td>Main-corner</td>\n    </tr>\n    <tr>\n      <th>1</th>\n      <td>290843998296342529</td>\n      <td>Anime</td>\n      <td>826527827792887869</td>\n      <td>Main</td>\n    </tr>\n  </tbody>\n</table>\n</div>"
     },
     "execution_count": 20,
     "metadata": {},
     "output_type": "execute_result"
    }
   ],
   "source": [
    "columns = ['server_id', 'server_name', 'channel_id', 'channel_name']\n",
    "data = [[903535408846077952, 'Dark Echelon', 964218449301737503, 'Main-corner'],\n",
    "        [290843998296342529, 'Anime', 826527827792887869, 'Main']]\n",
    "servers_df = pd.DataFrame(data=data, columns=columns)\n",
    "servers_df"
   ],
   "metadata": {
    "collapsed": false,
    "pycharm": {
     "name": "#%%\n"
    }
   }
  },
  {
   "cell_type": "code",
   "execution_count": 21,
   "outputs": [],
   "source": [
    "servers_df.to_csv('Servers/servers.csv', index=False)"
   ],
   "metadata": {
    "collapsed": false,
    "pycharm": {
     "name": "#%%\n"
    }
   }
  },
  {
   "cell_type": "code",
   "execution_count": 23,
   "outputs": [],
   "source": [
    "table = pd.read_csv(constants.SERVERS_TABLE_PATH)"
   ],
   "metadata": {
    "collapsed": false,
    "pycharm": {
     "name": "#%%\n"
    }
   }
  },
  {
   "cell_type": "code",
   "execution_count": 27,
   "outputs": [
    {
     "data": {
      "text/plain": "[903535408846077952, 290843998296342529]"
     },
     "execution_count": 27,
     "metadata": {},
     "output_type": "execute_result"
    }
   ],
   "source": [
    "table['server_id'].to_list()"
   ],
   "metadata": {
    "collapsed": false,
    "pycharm": {
     "name": "#%%\n"
    }
   }
  },
  {
   "cell_type": "code",
   "execution_count": 30,
   "outputs": [
    {
     "data": {
      "text/plain": "                                               \u0005\u0005\n  \\\n0  BlockChainAJ_\u000ERTFÐT AIRDROP\u0007AHaleem\u0007AHa...   \n\n    who is collab manager here?-Hello  \\\n0                                   NaN   \n\n    <@369664424740388866> and I are CMâs\u0005HELOO\u0019Hey <@900116185599852635>\u000EU there buddy?\u0006wassupRHey so I do represent a project wanted to know if there was any interest to collab/I filled the application a while back I believe\nDidnât get a response ð\nAif you dont get a response it generally means we arent interestedwOh ok I thought of giving out all dark echelon members beta access to the tool and a couple WL raffled to the community\u0002hi\u0002hi\u0002hi\u0002hi\u0002hi\u0004Nice\u0005Guess\n<:AScoolrp:883786745831907378>\n<:AScoolrp:883786745831907378>\u00131082327413452705802\u00131082370135400136774\u00131082738238780874772\u00131082873144706088970\u00131082873176096256072\u00131082873308720156703\u00131082873698060611636\u00131082873742176309330\u00131082873769187614870\u00131082874010641109042\u00131082874527064801280\u00131082986388724662363\u00131082986388724662363\u00131082986388724662363\u00131082986388724662363\u00131082986388724662363\u00131083016823110369321\u00131083016827216597072\u00131083016828210651146\u00131083016828210651146 2023-03-06T15:42:44.038000+00:00 2023-03-06T18:32:29.744000+00:00 2023-03-07T18:55:12.429000+00:00 2023-03-08T03:51:16.508000+00:00 2023-03-08T03:51:23.992000+00:00 2023-03-08T03:51:55.612000+00:00 2023-03-08T03:53:28.438000+00:00 2023-03-08T03:53:38.956000+00:00 2023-03-08T03:53:45.396000+00:00 2023-03-08T03:54:42.963000+00:00 2023-03-08T03:56:46.088000+00:00 2023-03-08T11:21:15.986000+00:00 2023-03-08T11:21:15.986000+00:00 2023-03-08T11:21:15.986000+00:00 2023-03-08T11:21:15.986000+00:00 2023-03-08T11:21:15.986000+00:00 2023-03-08T13:22:12.109000+00:00 2023-03-08T13:22:13.088000+00:00 2023-03-08T13:22:13.325000+00:00 2023-03-08T13:22:13.325000+00:00\u0007Kethali  \n0                                                NaN                                                                                                                                                                                                                                                                                                                                                                                                                                                                                                                                                                                                                                                                                                                                                                                                                                                                                                                                                                                                                                                                                                                                                                                                                                                                                                                                                                                                                                                                                                                                                                                                                                                                                                                                    ",
      "text/html": "<div>\n<style scoped>\n    .dataframe tbody tr th:only-of-type {\n        vertical-align: middle;\n    }\n\n    .dataframe tbody tr th {\n        vertical-align: top;\n    }\n\n    .dataframe thead th {\n        text-align: right;\n    }\n</style>\n<table border=\"1\" class=\"dataframe\">\n  <thead>\n    <tr style=\"text-align: right;\">\n      <th></th>\n      <th>\u0005\u0005</th>\n      <th>who is collab manager here?-Hello</th>\n      <th>&lt;@369664424740388866&gt; and I are CMâs\u0005HELOO\u0019Hey &lt;@900116185599852635&gt;\u000EU there buddy?\u0006wassupRHey so I do represent a project wanted to know if there was any interest to collab/I filled the application a while back I believe\u001CDidnât get a response ðAif you dont get a response it generally means we arent interestedwOh ok I thought of giving out all dark echelon members beta access to the tool and a couple WL raffled to the community\u0002hi\u0002hi\u0002hi\u0002hi\u0002hi\u0004Nice\u0005Guess\u001E&lt;:AScoolrp:883786745831907378&gt;\u001E&lt;:AScoolrp:883786745831907378&gt;\u00131082327413452705802\u00131082370135400136774\u00131082738238780874772\u00131082873144706088970\u00131082873176096256072\u00131082873308720156703\u00131082873698060611636\u00131082873742176309330\u00131082873769187614870\u00131082874010641109042\u00131082874527064801280\u00131082986388724662363\u00131082986388724662363\u00131082986388724662363\u00131082986388724662363\u00131082986388724662363\u00131083016823110369321\u00131083016827216597072\u00131083016828210651146\u00131083016828210651146 2023-03-06T15:42:44.038000+00:00 2023-03-06T18:32:29.744000+00:00 2023-03-07T18:55:12.429000+00:00 2023-03-08T03:51:16.508000+00:00 2023-03-08T03:51:23.992000+00:00 2023-03-08T03:51:55.612000+00:00 2023-03-08T03:53:28.438000+00:00 2023-03-08T03:53:38.956000+00:00 2023-03-08T03:53:45.396000+00:00 2023-03-08T03:54:42.963000+00:00 2023-03-08T03:56:46.088000+00:00 2023-03-08T11:21:15.986000+00:00 2023-03-08T11:21:15.986000+00:00 2023-03-08T11:21:15.986000+00:00 2023-03-08T11:21:15.986000+00:00 2023-03-08T11:21:15.986000+00:00 2023-03-08T13:22:12.109000+00:00 2023-03-08T13:22:13.088000+00:00 2023-03-08T13:22:13.325000+00:00 2023-03-08T13:22:13.325000+00:00\u0007Kethali</th>\n    </tr>\n  </thead>\n  <tbody>\n    <tr>\n      <th>0</th>\n      <td>BlockChainAJ_\u000ERTFÐT AIRDROP\u0007AHaleem\u0007AHa...</td>\n      <td>NaN</td>\n      <td>NaN</td>\n    </tr>\n  </tbody>\n</table>\n</div>"
     },
     "execution_count": 30,
     "metadata": {},
     "output_type": "execute_result"
    }
   ],
   "source": [
    "# Load the last row of the DataFrame from the pickle file\n",
    "with open(constants.DISCORD_FILE_PATH, 'rb') as f:\n",
    "    # Read the last row using read_csv with iterator and get_chunk\n",
    "    last_row = pd.read_csv(f, iterator=True, chunksize=1, encoding= 'unicode_escape').get_chunk(1)\n",
    "\n",
    "# Print the last row\n",
    "last_row"
   ],
   "metadata": {
    "collapsed": false,
    "pycharm": {
     "name": "#%%\n"
    }
   }
  },
  {
   "cell_type": "code",
   "execution_count": 31,
   "outputs": [
    {
     "ename": "UnpicklingError",
     "evalue": "unpickling stack underflow",
     "output_type": "error",
     "traceback": [
      "\u001B[1;31m---------------------------------------------------------------------------\u001B[0m",
      "\u001B[1;31mUnpicklingError\u001B[0m                           Traceback (most recent call last)",
      "\u001B[1;32m~\\AppData\\Local\\Temp\\ipykernel_23424\\1922608613.py\u001B[0m in \u001B[0;36m<module>\u001B[1;34m\u001B[0m\n\u001B[0;32m     18\u001B[0m         \u001B[0mf\u001B[0m\u001B[1;33m.\u001B[0m\u001B[0mseek\u001B[0m\u001B[1;33m(\u001B[0m\u001B[0mcur_pos\u001B[0m\u001B[1;33m)\u001B[0m\u001B[1;33m\u001B[0m\u001B[1;33m\u001B[0m\u001B[0m\n\u001B[0;32m     19\u001B[0m         \u001B[1;32mif\u001B[0m \u001B[0mf\u001B[0m\u001B[1;33m.\u001B[0m\u001B[0mread\u001B[0m\u001B[1;33m(\u001B[0m\u001B[1;36m1\u001B[0m\u001B[1;33m)\u001B[0m \u001B[1;33m==\u001B[0m \u001B[1;34mb'\\n'\u001B[0m\u001B[1;33m:\u001B[0m\u001B[1;33m\u001B[0m\u001B[1;33m\u001B[0m\u001B[0m\n\u001B[1;32m---> 20\u001B[1;33m             \u001B[0mdf\u001B[0m \u001B[1;33m=\u001B[0m \u001B[0munpickler\u001B[0m\u001B[1;33m.\u001B[0m\u001B[0mload\u001B[0m\u001B[1;33m(\u001B[0m\u001B[1;33m)\u001B[0m\u001B[1;33m\u001B[0m\u001B[1;33m\u001B[0m\u001B[0m\n\u001B[0m\u001B[0;32m     21\u001B[0m             \u001B[0mlast_row\u001B[0m \u001B[1;33m=\u001B[0m \u001B[0mdf\u001B[0m\u001B[1;33m.\u001B[0m\u001B[0miloc\u001B[0m\u001B[1;33m[\u001B[0m\u001B[1;33m-\u001B[0m\u001B[1;36m1\u001B[0m\u001B[1;33m]\u001B[0m\u001B[1;33m\u001B[0m\u001B[1;33m\u001B[0m\u001B[0m\n\u001B[0;32m     22\u001B[0m             \u001B[1;32mbreak\u001B[0m\u001B[1;33m\u001B[0m\u001B[1;33m\u001B[0m\u001B[0m\n",
      "\u001B[1;31mUnpicklingError\u001B[0m: unpickling stack underflow"
     ]
    }
   ],
   "source": [
    "import pandas as pd\n",
    "import pickle\n",
    "\n",
    "# Define the path to the pickle file\n",
    "path_to_file = constants.DISCORD_FILE_PATH\n",
    "\n",
    "# Open the file in binary mode\n",
    "with open(path_to_file, 'rb') as f:\n",
    "\n",
    "    # Initialize the unpickler\n",
    "    unpickler = pickle.Unpickler(f)\n",
    "\n",
    "    # Read the file from the end\n",
    "    file_size = f.seek(0, 2)\n",
    "    cur_pos = file_size\n",
    "    while cur_pos > 0:\n",
    "        cur_pos -= 1\n",
    "        f.seek(cur_pos)\n",
    "        if f.read(1) == b'\\n':\n",
    "            df = unpickler.load()\n",
    "            last_row = df.iloc[-1]\n",
    "            break\n",
    "\n",
    "# Print the last row\n",
    "print(last_row)"
   ],
   "metadata": {
    "collapsed": false,
    "pycharm": {
     "name": "#%%\n"
    }
   }
  },
  {
   "cell_type": "code",
   "execution_count": 32,
   "outputs": [],
   "source": [
    "import pickle\n",
    "import pandas as pd\n",
    "\n",
    "# Open the pickle file in binary mode for reading\n",
    "with open(constants.DISCORD_FILE_PATH, 'rb') as f:\n",
    "    # Load the data from the file one object at a time\n",
    "    while True:\n",
    "        try:\n",
    "            # Load the next object from the pickle file\n",
    "            data = pickle.load(f)\n",
    "        except EOFError:\n",
    "            # Reached the end of the file\n",
    "            break\n",
    "\n",
    "    # Extract the last row of the DataFrame using the tail() method\n",
    "    last_row = pd.DataFrame(data).tail(1)"
   ],
   "metadata": {
    "collapsed": false,
    "pycharm": {
     "name": "#%%\n"
    }
   }
  },
  {
   "cell_type": "code",
   "execution_count": 34,
   "outputs": [
    {
     "data": {
      "text/plain": "                                              message                   id  \\\n0                  Hello, who is collab manager here?  1082327413452705802   \n1         Hello, <@369664424740388866> and I are CM’s  1082370135400136774   \n2                                               HELOO  1082738238780874772   \n3                           Hey <@900116185599852635>  1082873144706088970   \n4                                      U there buddy?  1082873176096256072   \n5                                              wassup  1082873308720156703   \n6   Hey so I do represent a project wanted to know...  1082873698060611636   \n7     I filled the application a while back I believe  1082873742176309330   \n8                             Didn’t get a response 😅  1082873769187614870   \n9   if you dont get a response it generally means ...  1082874010641109042   \n10  Oh ok I thought of giving out all dark echelon...  1082874527064801280   \n11                                                 hi  1082986388724662363   \n12                                                 hi  1082986388724662363   \n13                                                 hi  1082986388724662363   \n14                                                 hi  1082986388724662363   \n15                                                 hi  1082986388724662363   \n16                                               Nice  1083016823110369321   \n17                                              Guess  1083016827216597072   \n18                     <:AScoolrp:883786745831907378>  1083016828210651146   \n19                     <:AScoolrp:883786745831907378>  1083016828210651146   \n\n                            datetime         author        status  \\\n0   2023-03-06T15:42:44.038000+00:00        Kethali  FROM_DISCORD   \n1   2023-03-06T18:32:29.744000+00:00  BlockChainAJ_  FROM_DISCORD   \n2   2023-03-07T18:55:12.429000+00:00  RTFКT AIRDROP  FROM_DISCORD   \n3   2023-03-08T03:51:16.508000+00:00        AHaleem  FROM_DISCORD   \n4   2023-03-08T03:51:23.992000+00:00        AHaleem  FROM_DISCORD   \n5   2023-03-08T03:51:55.612000+00:00      Charizard  FROM_DISCORD   \n6   2023-03-08T03:53:28.438000+00:00        AHaleem  FROM_DISCORD   \n7   2023-03-08T03:53:38.956000+00:00        AHaleem  FROM_DISCORD   \n8   2023-03-08T03:53:45.396000+00:00        AHaleem  FROM_DISCORD   \n9   2023-03-08T03:54:42.963000+00:00      Charizard  FROM_DISCORD   \n10  2023-03-08T03:56:46.088000+00:00        AHaleem  FROM_DISCORD   \n11  2023-03-08T11:21:15.986000+00:00       oldwhite  FROM_DISCORD   \n12  2023-03-08T11:21:15.986000+00:00       oldwhite  FROM_DISCORD   \n13  2023-03-08T11:21:15.986000+00:00       oldwhite  FROM_DISCORD   \n14  2023-03-08T11:21:15.986000+00:00       oldwhite  FROM_DISCORD   \n15  2023-03-08T11:21:15.986000+00:00       oldwhite  FROM_DISCORD   \n16  2023-03-08T13:22:12.109000+00:00    GAZIO GAMER  FROM_DISCORD   \n17  2023-03-08T13:22:13.088000+00:00      *_arpan_*  FROM_DISCORD   \n18  2023-03-08T13:22:13.325000+00:00    sxltygylhal  FROM_DISCORD   \n19  2023-03-08T13:22:13.325000+00:00    sxltygylhal  FROM_DISCORD   \n\n     server_name   channel_name  \n0   Dark Echelon   ⚜main-corner  \n1   Dark Echelon   ⚜main-corner  \n2   Dark Echelon   ⚜main-corner  \n3   Dark Echelon   ⚜main-corner  \n4   Dark Echelon   ⚜main-corner  \n5   Dark Echelon   ⚜main-corner  \n6   Dark Echelon   ⚜main-corner  \n7   Dark Echelon   ⚜main-corner  \n8   Dark Echelon   ⚜main-corner  \n9   Dark Echelon   ⚜main-corner  \n10  Dark Echelon   ⚜main-corner  \n11  Dark Echelon   ⚜main-corner  \n12  Dark Echelon   ⚜main-corner  \n13  Dark Echelon   ⚜main-corner  \n14  Dark Echelon   ⚜main-corner  \n15  Dark Echelon   ⚜main-corner  \n16          None  💬members-chat  \n17          None  💬members-chat  \n18          None  💬members-chat  \n19          None  💬members-chat  ",
      "text/html": "<div>\n<style scoped>\n    .dataframe tbody tr th:only-of-type {\n        vertical-align: middle;\n    }\n\n    .dataframe tbody tr th {\n        vertical-align: top;\n    }\n\n    .dataframe thead th {\n        text-align: right;\n    }\n</style>\n<table border=\"1\" class=\"dataframe\">\n  <thead>\n    <tr style=\"text-align: right;\">\n      <th></th>\n      <th>message</th>\n      <th>id</th>\n      <th>datetime</th>\n      <th>author</th>\n      <th>status</th>\n      <th>server_name</th>\n      <th>channel_name</th>\n    </tr>\n  </thead>\n  <tbody>\n    <tr>\n      <th>0</th>\n      <td>Hello, who is collab manager here?</td>\n      <td>1082327413452705802</td>\n      <td>2023-03-06T15:42:44.038000+00:00</td>\n      <td>Kethali</td>\n      <td>FROM_DISCORD</td>\n      <td>Dark Echelon</td>\n      <td>⚜main-corner</td>\n    </tr>\n    <tr>\n      <th>1</th>\n      <td>Hello, &lt;@369664424740388866&gt; and I are CM’s</td>\n      <td>1082370135400136774</td>\n      <td>2023-03-06T18:32:29.744000+00:00</td>\n      <td>BlockChainAJ_</td>\n      <td>FROM_DISCORD</td>\n      <td>Dark Echelon</td>\n      <td>⚜main-corner</td>\n    </tr>\n    <tr>\n      <th>2</th>\n      <td>HELOO</td>\n      <td>1082738238780874772</td>\n      <td>2023-03-07T18:55:12.429000+00:00</td>\n      <td>RTFКT AIRDROP</td>\n      <td>FROM_DISCORD</td>\n      <td>Dark Echelon</td>\n      <td>⚜main-corner</td>\n    </tr>\n    <tr>\n      <th>3</th>\n      <td>Hey &lt;@900116185599852635&gt;</td>\n      <td>1082873144706088970</td>\n      <td>2023-03-08T03:51:16.508000+00:00</td>\n      <td>AHaleem</td>\n      <td>FROM_DISCORD</td>\n      <td>Dark Echelon</td>\n      <td>⚜main-corner</td>\n    </tr>\n    <tr>\n      <th>4</th>\n      <td>U there buddy?</td>\n      <td>1082873176096256072</td>\n      <td>2023-03-08T03:51:23.992000+00:00</td>\n      <td>AHaleem</td>\n      <td>FROM_DISCORD</td>\n      <td>Dark Echelon</td>\n      <td>⚜main-corner</td>\n    </tr>\n    <tr>\n      <th>5</th>\n      <td>wassup</td>\n      <td>1082873308720156703</td>\n      <td>2023-03-08T03:51:55.612000+00:00</td>\n      <td>Charizard</td>\n      <td>FROM_DISCORD</td>\n      <td>Dark Echelon</td>\n      <td>⚜main-corner</td>\n    </tr>\n    <tr>\n      <th>6</th>\n      <td>Hey so I do represent a project wanted to know...</td>\n      <td>1082873698060611636</td>\n      <td>2023-03-08T03:53:28.438000+00:00</td>\n      <td>AHaleem</td>\n      <td>FROM_DISCORD</td>\n      <td>Dark Echelon</td>\n      <td>⚜main-corner</td>\n    </tr>\n    <tr>\n      <th>7</th>\n      <td>I filled the application a while back I believe</td>\n      <td>1082873742176309330</td>\n      <td>2023-03-08T03:53:38.956000+00:00</td>\n      <td>AHaleem</td>\n      <td>FROM_DISCORD</td>\n      <td>Dark Echelon</td>\n      <td>⚜main-corner</td>\n    </tr>\n    <tr>\n      <th>8</th>\n      <td>Didn’t get a response 😅</td>\n      <td>1082873769187614870</td>\n      <td>2023-03-08T03:53:45.396000+00:00</td>\n      <td>AHaleem</td>\n      <td>FROM_DISCORD</td>\n      <td>Dark Echelon</td>\n      <td>⚜main-corner</td>\n    </tr>\n    <tr>\n      <th>9</th>\n      <td>if you dont get a response it generally means ...</td>\n      <td>1082874010641109042</td>\n      <td>2023-03-08T03:54:42.963000+00:00</td>\n      <td>Charizard</td>\n      <td>FROM_DISCORD</td>\n      <td>Dark Echelon</td>\n      <td>⚜main-corner</td>\n    </tr>\n    <tr>\n      <th>10</th>\n      <td>Oh ok I thought of giving out all dark echelon...</td>\n      <td>1082874527064801280</td>\n      <td>2023-03-08T03:56:46.088000+00:00</td>\n      <td>AHaleem</td>\n      <td>FROM_DISCORD</td>\n      <td>Dark Echelon</td>\n      <td>⚜main-corner</td>\n    </tr>\n    <tr>\n      <th>11</th>\n      <td>hi</td>\n      <td>1082986388724662363</td>\n      <td>2023-03-08T11:21:15.986000+00:00</td>\n      <td>oldwhite</td>\n      <td>FROM_DISCORD</td>\n      <td>Dark Echelon</td>\n      <td>⚜main-corner</td>\n    </tr>\n    <tr>\n      <th>12</th>\n      <td>hi</td>\n      <td>1082986388724662363</td>\n      <td>2023-03-08T11:21:15.986000+00:00</td>\n      <td>oldwhite</td>\n      <td>FROM_DISCORD</td>\n      <td>Dark Echelon</td>\n      <td>⚜main-corner</td>\n    </tr>\n    <tr>\n      <th>13</th>\n      <td>hi</td>\n      <td>1082986388724662363</td>\n      <td>2023-03-08T11:21:15.986000+00:00</td>\n      <td>oldwhite</td>\n      <td>FROM_DISCORD</td>\n      <td>Dark Echelon</td>\n      <td>⚜main-corner</td>\n    </tr>\n    <tr>\n      <th>14</th>\n      <td>hi</td>\n      <td>1082986388724662363</td>\n      <td>2023-03-08T11:21:15.986000+00:00</td>\n      <td>oldwhite</td>\n      <td>FROM_DISCORD</td>\n      <td>Dark Echelon</td>\n      <td>⚜main-corner</td>\n    </tr>\n    <tr>\n      <th>15</th>\n      <td>hi</td>\n      <td>1082986388724662363</td>\n      <td>2023-03-08T11:21:15.986000+00:00</td>\n      <td>oldwhite</td>\n      <td>FROM_DISCORD</td>\n      <td>Dark Echelon</td>\n      <td>⚜main-corner</td>\n    </tr>\n    <tr>\n      <th>16</th>\n      <td>Nice</td>\n      <td>1083016823110369321</td>\n      <td>2023-03-08T13:22:12.109000+00:00</td>\n      <td>GAZIO GAMER</td>\n      <td>FROM_DISCORD</td>\n      <td>None</td>\n      <td>💬members-chat</td>\n    </tr>\n    <tr>\n      <th>17</th>\n      <td>Guess</td>\n      <td>1083016827216597072</td>\n      <td>2023-03-08T13:22:13.088000+00:00</td>\n      <td>*_arpan_*</td>\n      <td>FROM_DISCORD</td>\n      <td>None</td>\n      <td>💬members-chat</td>\n    </tr>\n    <tr>\n      <th>18</th>\n      <td>&lt;:AScoolrp:883786745831907378&gt;</td>\n      <td>1083016828210651146</td>\n      <td>2023-03-08T13:22:13.325000+00:00</td>\n      <td>sxltygylhal</td>\n      <td>FROM_DISCORD</td>\n      <td>None</td>\n      <td>💬members-chat</td>\n    </tr>\n    <tr>\n      <th>19</th>\n      <td>&lt;:AScoolrp:883786745831907378&gt;</td>\n      <td>1083016828210651146</td>\n      <td>2023-03-08T13:22:13.325000+00:00</td>\n      <td>sxltygylhal</td>\n      <td>FROM_DISCORD</td>\n      <td>None</td>\n      <td>💬members-chat</td>\n    </tr>\n  </tbody>\n</table>\n</div>"
     },
     "execution_count": 34,
     "metadata": {},
     "output_type": "execute_result"
    }
   ],
   "source": [
    "data"
   ],
   "metadata": {
    "collapsed": false,
    "pycharm": {
     "name": "#%%\n"
    }
   }
  },
  {
   "cell_type": "code",
   "execution_count": 36,
   "outputs": [
    {
     "ename": "TypeError",
     "evalue": "read_pickle() got an unexpected keyword argument 'skiprows'",
     "output_type": "error",
     "traceback": [
      "\u001B[1;31m---------------------------------------------------------------------------\u001B[0m",
      "\u001B[1;31mTypeError\u001B[0m                                 Traceback (most recent call last)",
      "\u001B[1;32m~\\AppData\\Local\\Temp\\ipykernel_23424\\429275932.py\u001B[0m in \u001B[0;36m<module>\u001B[1;34m\u001B[0m\n\u001B[1;32m----> 1\u001B[1;33m \u001B[0mpd\u001B[0m\u001B[1;33m.\u001B[0m\u001B[0mread_pickle\u001B[0m\u001B[1;33m(\u001B[0m\u001B[0mconstants\u001B[0m\u001B[1;33m.\u001B[0m\u001B[0mDISCORD_FILE_PATH\u001B[0m\u001B[1;33m,\u001B[0m \u001B[0mskiprows\u001B[0m\u001B[1;33m=\u001B[0m\u001B[1;36m1\u001B[0m\u001B[1;33m)\u001B[0m\u001B[1;33m\u001B[0m\u001B[1;33m\u001B[0m\u001B[0m\n\u001B[0m",
      "\u001B[1;31mTypeError\u001B[0m: read_pickle() got an unexpected keyword argument 'skiprows'"
     ]
    }
   ],
   "source": [
    "pd.read_pickle(constants.DISCORD_FILE_PATH, skiprows=1)"
   ],
   "metadata": {
    "collapsed": false,
    "pycharm": {
     "name": "#%%\n"
    }
   }
  },
  {
   "cell_type": "code",
   "execution_count": 9,
   "outputs": [
    {
     "data": {
      "text/plain": "['1082327413452705802',\n '1082370135400136774',\n '1082738238780874772',\n '1082873144706088970',\n '1082873176096256072',\n '1082873308720156703',\n '1082873698060611636',\n '1082873742176309330',\n '1082873769187614870',\n '1082874010641109042',\n '1082874527064801280',\n '1082986388724662363',\n '1082986388724662363',\n '1082986388724662363',\n '1082986388724662363',\n '1082986388724662363',\n '1083016823110369321',\n '1083016827216597072',\n '1083016828210651146',\n '1083016828210651146']"
     },
     "execution_count": 9,
     "metadata": {},
     "output_type": "execute_result"
    }
   ],
   "source": [
    "import MessageProc\n",
    "\n",
    "discord_logger = MessageProc.MessageLogger(max_rows=constants.VIEW_SIZE)\n",
    "\n",
    "discord_data = discord_logger.load_data_from_file(filename=constants.DISCORD_FILE_PATH)\n",
    "discord_data['id'].to_list()"
   ],
   "metadata": {
    "collapsed": false,
    "pycharm": {
     "name": "#%%\n"
    }
   }
  },
  {
   "cell_type": "code",
   "execution_count": 22,
   "outputs": [
    {
     "name": "stdout",
     "output_type": "stream",
     "text": [
      "yes\n"
     ]
    }
   ],
   "source": [
    "if not ('1082738238780874772' in discord_data['id'].to_list()):\n",
    "    print('true')\n",
    "else:\n",
    "    print('yes')"
   ],
   "metadata": {
    "collapsed": false,
    "pycharm": {
     "name": "#%%\n"
    }
   }
  },
  {
   "cell_type": "code",
   "execution_count": null,
   "outputs": [],
   "source": [],
   "metadata": {
    "collapsed": false,
    "pycharm": {
     "name": "#%%\n"
    }
   }
  }
 ],
 "metadata": {
  "kernelspec": {
   "display_name": "Python 3",
   "language": "python",
   "name": "python3"
  },
  "language_info": {
   "codemirror_mode": {
    "name": "ipython",
    "version": 2
   },
   "file_extension": ".py",
   "mimetype": "text/x-python",
   "name": "python",
   "nbconvert_exporter": "python",
   "pygments_lexer": "ipython2",
   "version": "2.7.6"
  }
 },
 "nbformat": 4,
 "nbformat_minor": 0
}