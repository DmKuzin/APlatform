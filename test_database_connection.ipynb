{
 "cells": [
  {
   "cell_type": "code",
   "execution_count": 18,
   "metadata": {
    "collapsed": true,
    "pycharm": {
     "name": "#%%\n"
    }
   },
   "outputs": [],
   "source": [
    "import psycopg2\n",
    "import time\n",
    "from datetime import datetime\n",
    "import pandas as pd\n",
    "import constants"
   ]
  },
  {
   "cell_type": "code",
   "execution_count": 2,
   "outputs": [],
   "source": [
    "#!pip3 install psycopg2"
   ],
   "metadata": {
    "collapsed": false,
    "pycharm": {
     "name": "#%%\n"
    }
   }
  },
  {
   "cell_type": "code",
   "execution_count": 3,
   "outputs": [],
   "source": [
    "# Establish a connection to the database\n",
    "conn = psycopg2.connect(\n",
    "    host=\"localhost\",\n",
    "    database=\"postgres\",\n",
    "    user=\"postgres\",\n",
    "    password=\"qwerty\"\n",
    ")"
   ],
   "metadata": {
    "collapsed": false,
    "pycharm": {
     "name": "#%%\n"
    }
   }
  },
  {
   "cell_type": "code",
   "execution_count": 4,
   "outputs": [],
   "source": [
    "# Open a cursor to perform database operations\n",
    "cur = conn.cursor()"
   ],
   "metadata": {
    "collapsed": false,
    "pycharm": {
     "name": "#%%\n"
    }
   }
  },
  {
   "cell_type": "code",
   "execution_count": 5,
   "outputs": [
    {
     "data": {
      "text/plain": "<cursor object at 0x000002164BC99660; closed: 0>"
     },
     "execution_count": 5,
     "metadata": {},
     "output_type": "execute_result"
    }
   ],
   "source": [
    "cur"
   ],
   "metadata": {
    "collapsed": false,
    "pycharm": {
     "name": "#%%\n"
    }
   }
  },
  {
   "cell_type": "code",
   "execution_count": 6,
   "outputs": [
    {
     "data": {
      "text/plain": "Timestamp('2023-03-01 22:51:08')"
     },
     "execution_count": 6,
     "metadata": {},
     "output_type": "execute_result"
    }
   ],
   "source": [
    "current_time = pd.to_datetime(datetime.now().strftime(\"%Y-%m-%d %H:%M:%S\"))\n",
    "current_time"
   ],
   "metadata": {
    "collapsed": false,
    "pycharm": {
     "name": "#%%\n"
    }
   }
  },
  {
   "cell_type": "code",
   "execution_count": 6,
   "outputs": [],
   "source": [],
   "metadata": {
    "collapsed": false,
    "pycharm": {
     "name": "#%%\n"
    }
   }
  },
  {
   "cell_type": "code",
   "execution_count": 7,
   "outputs": [],
   "source": [
    "# Execute a query to insert a row into a table\n",
    "for i in range(10):\n",
    "    current_time = pd.to_datetime(datetime.now().strftime(\"%Y-%m-%d %H:%M:%S\"))\n",
    "    cur.execute(\"INSERT INTO discord_table (message, id, datetime, author, status, server_name, channel_name) VALUES (%s, %s, %s, %s, %s, %s, %s)\", (\"test message_\"+str(2+i), 2+i, current_time, 'author', 'FROM_DISCORD', 'server_name', 'channel_name'))\n"
   ],
   "metadata": {
    "collapsed": false,
    "pycharm": {
     "name": "#%%\n"
    }
   }
  },
  {
   "cell_type": "code",
   "execution_count": 8,
   "outputs": [],
   "source": [
    "# Execute a SELECT query to read data from a table\n",
    "cur.execute(\"SELECT * FROM discord_table\")"
   ],
   "metadata": {
    "collapsed": false,
    "pycharm": {
     "name": "#%%\n"
    }
   }
  },
  {
   "cell_type": "code",
   "execution_count": 9,
   "outputs": [
    {
     "name": "stdout",
     "output_type": "stream",
     "text": [
      "('test message_2', 2, datetime.datetime(2023, 3, 1, 22, 51, 10), 'author', 'FROM_DISCORD', 'server_name', 'channel_name')\n",
      "('test message_3', 3, datetime.datetime(2023, 3, 1, 22, 51, 10), 'author', 'FROM_DISCORD', 'server_name', 'channel_name')\n",
      "('test message_4', 4, datetime.datetime(2023, 3, 1, 22, 51, 10), 'author', 'FROM_DISCORD', 'server_name', 'channel_name')\n",
      "('test message_5', 5, datetime.datetime(2023, 3, 1, 22, 51, 10), 'author', 'FROM_DISCORD', 'server_name', 'channel_name')\n",
      "('test message_6', 6, datetime.datetime(2023, 3, 1, 22, 51, 10), 'author', 'FROM_DISCORD', 'server_name', 'channel_name')\n",
      "('test message_7', 7, datetime.datetime(2023, 3, 1, 22, 51, 10), 'author', 'FROM_DISCORD', 'server_name', 'channel_name')\n",
      "('test message_8', 8, datetime.datetime(2023, 3, 1, 22, 51, 10), 'author', 'FROM_DISCORD', 'server_name', 'channel_name')\n",
      "('test message_9', 9, datetime.datetime(2023, 3, 1, 22, 51, 10), 'author', 'FROM_DISCORD', 'server_name', 'channel_name')\n",
      "('test message_10', 10, datetime.datetime(2023, 3, 1, 22, 51, 10), 'author', 'FROM_DISCORD', 'server_name', 'channel_name')\n",
      "('test message_11', 11, datetime.datetime(2023, 3, 1, 22, 51, 10), 'author', 'FROM_DISCORD', 'server_name', 'channel_name')\n"
     ]
    }
   ],
   "source": [
    "\n",
    "# Fetch all the rows returned by the query\n",
    "rows = cur.fetchall()\n",
    "\n",
    "# Print the data\n",
    "for row in rows:\n",
    "    print(row)\n",
    "\n",
    "# Close the cursor and the database connection\n",
    "cur.close()\n",
    "conn.close()"
   ],
   "metadata": {
    "collapsed": false,
    "pycharm": {
     "name": "#%%\n"
    }
   }
  },
  {
   "cell_type": "code",
   "execution_count": null,
   "outputs": [],
   "source": [
    "UPDATE table_name SET column1 = subquery.column1, column2 = subquery.column2, column3 = subquery.column3\n",
    "FROM (SELECT column1, column2, column3 FROM table_name ORDER BY id DESC OFFSET 1) AS subquery\n",
    "WHERE table_name.id = subquery.id + 1;\n"
   ],
   "metadata": {
    "collapsed": false,
    "pycharm": {
     "name": "#%%\n"
    }
   }
  },
  {
   "cell_type": "code",
   "execution_count": 20,
   "outputs": [
    {
     "data": {
      "text/plain": "            server_id   server_name          channel_id channel_name\n0  903535408846077952  Dark Echelon  964218449301737503  Main-corner\n1  290843998296342529         Anime  826527827792887869         Main",
      "text/html": "<div>\n<style scoped>\n    .dataframe tbody tr th:only-of-type {\n        vertical-align: middle;\n    }\n\n    .dataframe tbody tr th {\n        vertical-align: top;\n    }\n\n    .dataframe thead th {\n        text-align: right;\n    }\n</style>\n<table border=\"1\" class=\"dataframe\">\n  <thead>\n    <tr style=\"text-align: right;\">\n      <th></th>\n      <th>server_id</th>\n      <th>server_name</th>\n      <th>channel_id</th>\n      <th>channel_name</th>\n    </tr>\n  </thead>\n  <tbody>\n    <tr>\n      <th>0</th>\n      <td>903535408846077952</td>\n      <td>Dark Echelon</td>\n      <td>964218449301737503</td>\n      <td>Main-corner</td>\n    </tr>\n    <tr>\n      <th>1</th>\n      <td>290843998296342529</td>\n      <td>Anime</td>\n      <td>826527827792887869</td>\n      <td>Main</td>\n    </tr>\n  </tbody>\n</table>\n</div>"
     },
     "execution_count": 20,
     "metadata": {},
     "output_type": "execute_result"
    }
   ],
   "source": [
    "columns = ['server_id', 'server_name', 'channel_id', 'channel_name']\n",
    "data = [[903535408846077952, 'Dark Echelon', 964218449301737503, 'Main-corner'],\n",
    "        [290843998296342529, 'Anime', 826527827792887869, 'Main']]\n",
    "servers_df = pd.DataFrame(data=data, columns=columns)\n",
    "servers_df"
   ],
   "metadata": {
    "collapsed": false,
    "pycharm": {
     "name": "#%%\n"
    }
   }
  },
  {
   "cell_type": "code",
   "execution_count": 21,
   "outputs": [],
   "source": [
    "servers_df.to_csv('Servers/servers.csv', index=False)"
   ],
   "metadata": {
    "collapsed": false,
    "pycharm": {
     "name": "#%%\n"
    }
   }
  },
  {
   "cell_type": "code",
   "execution_count": 23,
   "outputs": [],
   "source": [
    "table = pd.read_csv(constants.SERVERS_TABLE_PATH)"
   ],
   "metadata": {
    "collapsed": false,
    "pycharm": {
     "name": "#%%\n"
    }
   }
  },
  {
   "cell_type": "code",
   "execution_count": 27,
   "outputs": [
    {
     "data": {
      "text/plain": "[903535408846077952, 290843998296342529]"
     },
     "execution_count": 27,
     "metadata": {},
     "output_type": "execute_result"
    }
   ],
   "source": [
    "table['server_id'].to_list()"
   ],
   "metadata": {
    "collapsed": false,
    "pycharm": {
     "name": "#%%\n"
    }
   }
  },
  {
   "cell_type": "code",
   "execution_count": null,
   "outputs": [],
   "source": [],
   "metadata": {
    "collapsed": false,
    "pycharm": {
     "name": "#%%\n"
    }
   }
  }
 ],
 "metadata": {
  "kernelspec": {
   "display_name": "Python 3",
   "language": "python",
   "name": "python3"
  },
  "language_info": {
   "codemirror_mode": {
    "name": "ipython",
    "version": 2
   },
   "file_extension": ".py",
   "mimetype": "text/x-python",
   "name": "python",
   "nbconvert_exporter": "python",
   "pygments_lexer": "ipython2",
   "version": "2.7.6"
  }
 },
 "nbformat": 4,
 "nbformat_minor": 0
}