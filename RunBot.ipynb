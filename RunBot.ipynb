{
 "cells": [
  {
   "cell_type": "code",
   "execution_count": 1,
   "outputs": [
    {
     "ename": "KeyboardInterrupt",
     "evalue": "",
     "output_type": "error",
     "traceback": [
      "\u001B[1;31m---------------------------------------------------------------------------\u001B[0m",
      "\u001B[1;31mKeyboardInterrupt\u001B[0m                         Traceback (most recent call last)",
      "\u001B[1;32m~\\AppData\\Local\\Temp\\ipykernel_14944\\3137423063.py\u001B[0m in \u001B[0;36m<module>\u001B[1;34m\u001B[0m\n\u001B[0;32m      6\u001B[0m                                              \u001B[0mconstants\u001B[0m\u001B[1;33m.\u001B[0m\u001B[0mCHANNEL_ID\u001B[0m\u001B[1;33m,\u001B[0m\u001B[1;33m\u001B[0m\u001B[1;33m\u001B[0m\u001B[0m\n\u001B[0;32m      7\u001B[0m                                              constants.DISCORD_FILE_PATH)\n\u001B[1;32m----> 8\u001B[1;33m \u001B[0mdiscord_listener\u001B[0m\u001B[1;33m.\u001B[0m\u001B[0mread_latest_messages\u001B[0m\u001B[1;33m(\u001B[0m\u001B[1;33m)\u001B[0m\u001B[1;33m\u001B[0m\u001B[1;33m\u001B[0m\u001B[0m\n\u001B[0m",
      "\u001B[1;32mC:\\Accenture_work\\Project\\APlatform\\RequestScraper.py\u001B[0m in \u001B[0;36mread_latest_messages\u001B[1;34m(self)\u001B[0m\n\u001B[0;32m    107\u001B[0m                 \u001B[0mself\u001B[0m\u001B[1;33m.\u001B[0m\u001B[0mmsg_loger\u001B[0m\u001B[1;33m.\u001B[0m\u001B[0msave_data\u001B[0m\u001B[1;33m(\u001B[0m\u001B[0mfilename\u001B[0m\u001B[1;33m=\u001B[0m\u001B[0mself\u001B[0m\u001B[1;33m.\u001B[0m\u001B[0msave_message_path\u001B[0m\u001B[1;33m)\u001B[0m\u001B[1;33m\u001B[0m\u001B[1;33m\u001B[0m\u001B[0m\n\u001B[0;32m    108\u001B[0m \u001B[1;33m\u001B[0m\u001B[0m\n\u001B[1;32m--> 109\u001B[1;33m             \u001B[0mtime\u001B[0m\u001B[1;33m.\u001B[0m\u001B[0msleep\u001B[0m\u001B[1;33m(\u001B[0m\u001B[1;36m1\u001B[0m\u001B[1;33m)\u001B[0m\u001B[1;33m\u001B[0m\u001B[1;33m\u001B[0m\u001B[0m\n\u001B[0m\u001B[0;32m    110\u001B[0m \u001B[1;33m\u001B[0m\u001B[0m\n\u001B[0;32m    111\u001B[0m \u001B[1;33m\u001B[0m\u001B[0m\n",
      "\u001B[1;31mKeyboardInterrupt\u001B[0m: "
     ]
    }
   ],
   "source": [
    "import RequestScraper, constants\n",
    "\n",
    "\n",
    "discord_listener = RequestScraper.DiscordBot(constants.AUTHORIZATION_TOKEN,\n",
    "                                             constants.SERVER_ID,\n",
    "                                             constants.CHANNEL_ID,\n",
    "                                             constants.DISCORD_FILE_PATH)\n",
    "discord_listener.read_latest_messages()"
   ],
   "metadata": {
    "collapsed": false,
    "pycharm": {
     "name": "#%%\n"
    }
   }
  },
  {
   "cell_type": "code",
   "execution_count": null,
   "outputs": [],
   "source": [
    "import RequestScraper, constants\n",
    "discord = RequestScraper.DiscordBot(constants.AUTHORIZATION_TOKEN,\n",
    "                                             constants.SERVER_ID,\n",
    "                                             constants.CHANNEL_ID,\n",
    "                                             constants.DISCORD_FILE_PATH)"
   ],
   "metadata": {
    "collapsed": false,
    "pycharm": {
     "name": "#%%\n"
    }
   }
  },
  {
   "cell_type": "code",
   "execution_count": null,
   "outputs": [],
   "source": [
    "discord.get_channel_name()"
   ],
   "metadata": {
    "collapsed": false,
    "pycharm": {
     "name": "#%%\n"
    }
   }
  },
  {
   "cell_type": "code",
   "execution_count": null,
   "outputs": [],
   "source": [
    "discord.get_server_name()"
   ],
   "metadata": {
    "collapsed": false,
    "pycharm": {
     "name": "#%%\n"
    }
   }
  },
  {
   "cell_type": "code",
   "execution_count": 2,
   "outputs": [],
   "source": [
    "import MessageProc\n",
    "\n",
    "log = MessageProc.MessageLogger(max_rows=constants.VIEW_SIZE)"
   ],
   "metadata": {
    "collapsed": false,
    "pycharm": {
     "name": "#%%\n"
    }
   }
  },
  {
   "cell_type": "code",
   "execution_count": 3,
   "outputs": [
    {
     "data": {
      "text/plain": "                message                   id  \\\n0               boooom!  1079405859546877974   \n1  earing in a video 😈)  1079408829164437524   \n\n                           datetime         author        status  \\\n0  2023-02-26T14:13:31.307000+00:00  Dmitrii Kuzin  FROM_DISCORD   \n1  2023-02-26T14:25:19.319000+00:00  Dmitrii Kuzin  FROM_DISCORD   \n\n    server_name channel_name  \n0  MyTestServer      general  \n1  MyTestServer      general  ",
      "text/html": "<div>\n<style scoped>\n    .dataframe tbody tr th:only-of-type {\n        vertical-align: middle;\n    }\n\n    .dataframe tbody tr th {\n        vertical-align: top;\n    }\n\n    .dataframe thead th {\n        text-align: right;\n    }\n</style>\n<table border=\"1\" class=\"dataframe\">\n  <thead>\n    <tr style=\"text-align: right;\">\n      <th></th>\n      <th>message</th>\n      <th>id</th>\n      <th>datetime</th>\n      <th>author</th>\n      <th>status</th>\n      <th>server_name</th>\n      <th>channel_name</th>\n    </tr>\n  </thead>\n  <tbody>\n    <tr>\n      <th>0</th>\n      <td>boooom!</td>\n      <td>1079405859546877974</td>\n      <td>2023-02-26T14:13:31.307000+00:00</td>\n      <td>Dmitrii Kuzin</td>\n      <td>FROM_DISCORD</td>\n      <td>MyTestServer</td>\n      <td>general</td>\n    </tr>\n    <tr>\n      <th>1</th>\n      <td>earing in a video 😈)</td>\n      <td>1079408829164437524</td>\n      <td>2023-02-26T14:25:19.319000+00:00</td>\n      <td>Dmitrii Kuzin</td>\n      <td>FROM_DISCORD</td>\n      <td>MyTestServer</td>\n      <td>general</td>\n    </tr>\n  </tbody>\n</table>\n</div>"
     },
     "execution_count": 3,
     "metadata": {},
     "output_type": "execute_result"
    }
   ],
   "source": [
    "log.load_data(filename=constants.DISCORD_FILE_PATH)"
   ],
   "metadata": {
    "collapsed": false,
    "pycharm": {
     "name": "#%%\n"
    }
   }
  },
  {
   "cell_type": "code",
   "execution_count": null,
   "outputs": [],
   "source": [],
   "metadata": {
    "collapsed": false,
    "pycharm": {
     "name": "#%%\n"
    }
   }
  }
 ],
 "metadata": {
  "kernelspec": {
   "display_name": "Python 3",
   "language": "python",
   "name": "python3"
  },
  "language_info": {
   "codemirror_mode": {
    "name": "ipython",
    "version": 2
   },
   "file_extension": ".py",
   "mimetype": "text/x-python",
   "name": "python",
   "nbconvert_exporter": "python",
   "pygments_lexer": "ipython2",
   "version": "2.7.6"
  }
 },
 "nbformat": 4,
 "nbformat_minor": 0
}